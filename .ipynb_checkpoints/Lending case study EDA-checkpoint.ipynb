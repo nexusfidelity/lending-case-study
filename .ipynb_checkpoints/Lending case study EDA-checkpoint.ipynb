{
 "cells": [
  {
   "cell_type": "code",
   "execution_count": 1,
   "id": "d3ee9fcb",
   "metadata": {},
   "outputs": [],
   "source": [
    "import pandas as pd\n",
    "import numpy as np\n",
    "import matplotlib.pyplot as plt\n",
    "import seaborn as sns"
   ]
  },
  {
   "cell_type": "code",
   "execution_count": 2,
   "id": "1efca0cf",
   "metadata": {},
   "outputs": [
    {
     "name": "stderr",
     "output_type": "stream",
     "text": [
      "C:\\Users\\fidel\\anaconda3\\lib\\site-packages\\IPython\\core\\interactiveshell.py:3437: DtypeWarning: Columns (47) have mixed types.Specify dtype option on import or set low_memory=False.\n",
      "  exec(code_obj, self.user_global_ns, self.user_ns)\n"
     ]
    },
    {
     "data": {
      "text/html": [
       "<div>\n",
       "<style scoped>\n",
       "    .dataframe tbody tr th:only-of-type {\n",
       "        vertical-align: middle;\n",
       "    }\n",
       "\n",
       "    .dataframe tbody tr th {\n",
       "        vertical-align: top;\n",
       "    }\n",
       "\n",
       "    .dataframe thead th {\n",
       "        text-align: right;\n",
       "    }\n",
       "</style>\n",
       "<table border=\"1\" class=\"dataframe\">\n",
       "  <thead>\n",
       "    <tr style=\"text-align: right;\">\n",
       "      <th></th>\n",
       "      <th>id</th>\n",
       "      <th>member_id</th>\n",
       "      <th>loan_amnt</th>\n",
       "      <th>funded_amnt</th>\n",
       "      <th>funded_amnt_inv</th>\n",
       "      <th>term</th>\n",
       "      <th>int_rate</th>\n",
       "      <th>installment</th>\n",
       "      <th>grade</th>\n",
       "      <th>sub_grade</th>\n",
       "      <th>...</th>\n",
       "      <th>num_tl_90g_dpd_24m</th>\n",
       "      <th>num_tl_op_past_12m</th>\n",
       "      <th>pct_tl_nvr_dlq</th>\n",
       "      <th>percent_bc_gt_75</th>\n",
       "      <th>pub_rec_bankruptcies</th>\n",
       "      <th>tax_liens</th>\n",
       "      <th>tot_hi_cred_lim</th>\n",
       "      <th>total_bal_ex_mort</th>\n",
       "      <th>total_bc_limit</th>\n",
       "      <th>total_il_high_credit_limit</th>\n",
       "    </tr>\n",
       "  </thead>\n",
       "  <tbody>\n",
       "    <tr>\n",
       "      <th>0</th>\n",
       "      <td>1077501</td>\n",
       "      <td>1296599</td>\n",
       "      <td>5000</td>\n",
       "      <td>5000</td>\n",
       "      <td>4975.0</td>\n",
       "      <td>36 months</td>\n",
       "      <td>10.65%</td>\n",
       "      <td>162.87</td>\n",
       "      <td>B</td>\n",
       "      <td>B2</td>\n",
       "      <td>...</td>\n",
       "      <td>NaN</td>\n",
       "      <td>NaN</td>\n",
       "      <td>NaN</td>\n",
       "      <td>NaN</td>\n",
       "      <td>0.0</td>\n",
       "      <td>0.0</td>\n",
       "      <td>NaN</td>\n",
       "      <td>NaN</td>\n",
       "      <td>NaN</td>\n",
       "      <td>NaN</td>\n",
       "    </tr>\n",
       "    <tr>\n",
       "      <th>1</th>\n",
       "      <td>1077430</td>\n",
       "      <td>1314167</td>\n",
       "      <td>2500</td>\n",
       "      <td>2500</td>\n",
       "      <td>2500.0</td>\n",
       "      <td>60 months</td>\n",
       "      <td>15.27%</td>\n",
       "      <td>59.83</td>\n",
       "      <td>C</td>\n",
       "      <td>C4</td>\n",
       "      <td>...</td>\n",
       "      <td>NaN</td>\n",
       "      <td>NaN</td>\n",
       "      <td>NaN</td>\n",
       "      <td>NaN</td>\n",
       "      <td>0.0</td>\n",
       "      <td>0.0</td>\n",
       "      <td>NaN</td>\n",
       "      <td>NaN</td>\n",
       "      <td>NaN</td>\n",
       "      <td>NaN</td>\n",
       "    </tr>\n",
       "    <tr>\n",
       "      <th>2</th>\n",
       "      <td>1077175</td>\n",
       "      <td>1313524</td>\n",
       "      <td>2400</td>\n",
       "      <td>2400</td>\n",
       "      <td>2400.0</td>\n",
       "      <td>36 months</td>\n",
       "      <td>15.96%</td>\n",
       "      <td>84.33</td>\n",
       "      <td>C</td>\n",
       "      <td>C5</td>\n",
       "      <td>...</td>\n",
       "      <td>NaN</td>\n",
       "      <td>NaN</td>\n",
       "      <td>NaN</td>\n",
       "      <td>NaN</td>\n",
       "      <td>0.0</td>\n",
       "      <td>0.0</td>\n",
       "      <td>NaN</td>\n",
       "      <td>NaN</td>\n",
       "      <td>NaN</td>\n",
       "      <td>NaN</td>\n",
       "    </tr>\n",
       "    <tr>\n",
       "      <th>3</th>\n",
       "      <td>1076863</td>\n",
       "      <td>1277178</td>\n",
       "      <td>10000</td>\n",
       "      <td>10000</td>\n",
       "      <td>10000.0</td>\n",
       "      <td>36 months</td>\n",
       "      <td>13.49%</td>\n",
       "      <td>339.31</td>\n",
       "      <td>C</td>\n",
       "      <td>C1</td>\n",
       "      <td>...</td>\n",
       "      <td>NaN</td>\n",
       "      <td>NaN</td>\n",
       "      <td>NaN</td>\n",
       "      <td>NaN</td>\n",
       "      <td>0.0</td>\n",
       "      <td>0.0</td>\n",
       "      <td>NaN</td>\n",
       "      <td>NaN</td>\n",
       "      <td>NaN</td>\n",
       "      <td>NaN</td>\n",
       "    </tr>\n",
       "    <tr>\n",
       "      <th>4</th>\n",
       "      <td>1075358</td>\n",
       "      <td>1311748</td>\n",
       "      <td>3000</td>\n",
       "      <td>3000</td>\n",
       "      <td>3000.0</td>\n",
       "      <td>60 months</td>\n",
       "      <td>12.69%</td>\n",
       "      <td>67.79</td>\n",
       "      <td>B</td>\n",
       "      <td>B5</td>\n",
       "      <td>...</td>\n",
       "      <td>NaN</td>\n",
       "      <td>NaN</td>\n",
       "      <td>NaN</td>\n",
       "      <td>NaN</td>\n",
       "      <td>0.0</td>\n",
       "      <td>0.0</td>\n",
       "      <td>NaN</td>\n",
       "      <td>NaN</td>\n",
       "      <td>NaN</td>\n",
       "      <td>NaN</td>\n",
       "    </tr>\n",
       "  </tbody>\n",
       "</table>\n",
       "<p>5 rows × 111 columns</p>\n",
       "</div>"
      ],
      "text/plain": [
       "        id  member_id  loan_amnt  funded_amnt  funded_amnt_inv        term  \\\n",
       "0  1077501    1296599       5000         5000           4975.0   36 months   \n",
       "1  1077430    1314167       2500         2500           2500.0   60 months   \n",
       "2  1077175    1313524       2400         2400           2400.0   36 months   \n",
       "3  1076863    1277178      10000        10000          10000.0   36 months   \n",
       "4  1075358    1311748       3000         3000           3000.0   60 months   \n",
       "\n",
       "  int_rate  installment grade sub_grade  ... num_tl_90g_dpd_24m  \\\n",
       "0   10.65%       162.87     B        B2  ...                NaN   \n",
       "1   15.27%        59.83     C        C4  ...                NaN   \n",
       "2   15.96%        84.33     C        C5  ...                NaN   \n",
       "3   13.49%       339.31     C        C1  ...                NaN   \n",
       "4   12.69%        67.79     B        B5  ...                NaN   \n",
       "\n",
       "  num_tl_op_past_12m pct_tl_nvr_dlq  percent_bc_gt_75 pub_rec_bankruptcies  \\\n",
       "0                NaN            NaN               NaN                  0.0   \n",
       "1                NaN            NaN               NaN                  0.0   \n",
       "2                NaN            NaN               NaN                  0.0   \n",
       "3                NaN            NaN               NaN                  0.0   \n",
       "4                NaN            NaN               NaN                  0.0   \n",
       "\n",
       "  tax_liens tot_hi_cred_lim total_bal_ex_mort total_bc_limit  \\\n",
       "0       0.0             NaN               NaN            NaN   \n",
       "1       0.0             NaN               NaN            NaN   \n",
       "2       0.0             NaN               NaN            NaN   \n",
       "3       0.0             NaN               NaN            NaN   \n",
       "4       0.0             NaN               NaN            NaN   \n",
       "\n",
       "  total_il_high_credit_limit  \n",
       "0                        NaN  \n",
       "1                        NaN  \n",
       "2                        NaN  \n",
       "3                        NaN  \n",
       "4                        NaN  \n",
       "\n",
       "[5 rows x 111 columns]"
      ]
     },
     "execution_count": 2,
     "metadata": {},
     "output_type": "execute_result"
    }
   ],
   "source": [
    "df = pd.read_csv('loan.csv')\n",
    "df.head()"
   ]
  },
  {
   "cell_type": "code",
   "execution_count": 3,
   "id": "6d6ea074",
   "metadata": {},
   "outputs": [
    {
     "data": {
      "text/plain": [
       "(39717, 111)"
      ]
     },
     "execution_count": 3,
     "metadata": {},
     "output_type": "execute_result"
    }
   ],
   "source": [
    "df.shape"
   ]
  },
  {
   "cell_type": "markdown",
   "id": "4c9715ed",
   "metadata": {},
   "source": [
    "# data cleaning\n",
    "\n",
    "## dealing with missing values"
   ]
  },
  {
   "cell_type": "code",
   "execution_count": 4,
   "id": "0b1ec644",
   "metadata": {},
   "outputs": [
    {
     "data": {
      "text/plain": [
       "verification_status_joint    39717\n",
       "annual_inc_joint             39717\n",
       "mo_sin_old_rev_tl_op         39717\n",
       "mo_sin_old_il_acct           39717\n",
       "bc_util                      39717\n",
       "bc_open_to_buy               39717\n",
       "avg_cur_bal                  39717\n",
       "acc_open_past_24mths         39717\n",
       "inq_last_12m                 39717\n",
       "total_cu_tl                  39717\n",
       "inq_fi                       39717\n",
       "total_rev_hi_lim             39717\n",
       "all_util                     39717\n",
       "max_bal_bc                   39717\n",
       "open_rv_24m                  39717\n",
       "open_rv_12m                  39717\n",
       "il_util                      39717\n",
       "total_bal_il                 39717\n",
       "mths_since_rcnt_il           39717\n",
       "open_il_24m                  39717\n",
       "dtype: int64"
      ]
     },
     "execution_count": 4,
     "metadata": {},
     "output_type": "execute_result"
    }
   ],
   "source": [
    "df.isnull().sum().sort_values(ascending=False).head(20)"
   ]
  },
  {
   "cell_type": "code",
   "execution_count": 5,
   "id": "0c71277f",
   "metadata": {},
   "outputs": [],
   "source": [
    "#drop all columns having all null values\n",
    "df = df.dropna(axis=1,how='all')"
   ]
  },
  {
   "cell_type": "code",
   "execution_count": 6,
   "id": "04d93d2d",
   "metadata": {},
   "outputs": [
    {
     "data": {
      "text/plain": [
       "next_pymnt_d                  38577\n",
       "mths_since_last_record        36931\n",
       "mths_since_last_delinq        25682\n",
       "desc                          12940\n",
       "emp_title                      2459\n",
       "emp_length                     1075\n",
       "pub_rec_bankruptcies            697\n",
       "last_pymnt_d                     71\n",
       "chargeoff_within_12_mths         56\n",
       "collections_12_mths_ex_med       56\n",
       "revol_util                       50\n",
       "tax_liens                        39\n",
       "title                            11\n",
       "last_credit_pull_d                2\n",
       "home_ownership                    0\n",
       "dtype: int64"
      ]
     },
     "execution_count": 6,
     "metadata": {},
     "output_type": "execute_result"
    }
   ],
   "source": [
    "#check columns with null values\n",
    "df.isnull().sum().sort_values(ascending=False).head(15)"
   ]
  },
  {
   "cell_type": "code",
   "execution_count": 7,
   "id": "caffd62b",
   "metadata": {},
   "outputs": [],
   "source": [
    "#next_pymnt_d is a date time column and its insufficient date and cannot be imputed\n",
    "df = df.drop(labels=['next_pymnt_d'], axis=1)"
   ]
  },
  {
   "cell_type": "code",
   "execution_count": 8,
   "id": "858f996f",
   "metadata": {},
   "outputs": [],
   "source": [
    "#is mths_since_last_record imputable?"
   ]
  },
  {
   "cell_type": "code",
   "execution_count": 9,
   "id": "8363d1be",
   "metadata": {},
   "outputs": [],
   "source": [
    "#is mths_since_last_delinq imputable?"
   ]
  },
  {
   "cell_type": "code",
   "execution_count": 10,
   "id": "51b47425",
   "metadata": {},
   "outputs": [],
   "source": [
    "#desc might be help if nlp is involved but for EDA, it isn't applicable to use this column\n",
    "df = df.drop(labels=['desc'], axis=1)"
   ]
  },
  {
   "cell_type": "code",
   "execution_count": 11,
   "id": "49bc63f5",
   "metadata": {},
   "outputs": [
    {
     "data": {
      "text/plain": [
       "US Army                              134\n",
       "Bank of America                      109\n",
       "IBM                                   66\n",
       "AT&T                                  59\n",
       "Kaiser Permanente                     56\n",
       "                                    ... \n",
       "Community College of Philadelphia      1\n",
       "AMEC                                   1\n",
       "lee county sheriff                     1\n",
       "Bacon County Board of Education        1\n",
       "Evergreen Center                       1\n",
       "Name: emp_title, Length: 28820, dtype: int64"
      ]
     },
     "execution_count": 11,
     "metadata": {},
     "output_type": "execute_result"
    }
   ],
   "source": [
    "df['emp_title'].value_counts()"
   ]
  },
  {
   "cell_type": "code",
   "execution_count": 12,
   "id": "11bad377",
   "metadata": {},
   "outputs": [],
   "source": [
    "df = df[df['emp_title'].notna()]"
   ]
  },
  {
   "cell_type": "code",
   "execution_count": 13,
   "id": "a3243b45",
   "metadata": {},
   "outputs": [],
   "source": [
    "df = df[df['emp_length'].notna()]"
   ]
  },
  {
   "cell_type": "code",
   "execution_count": 14,
   "id": "954fdc68",
   "metadata": {},
   "outputs": [],
   "source": [
    "df = df[df['pub_rec_bankruptcies'].notna()]"
   ]
  },
  {
   "cell_type": "code",
   "execution_count": 15,
   "id": "f7230dfb",
   "metadata": {},
   "outputs": [],
   "source": [
    "df = df[df['last_pymnt_d'].notna()]"
   ]
  },
  {
   "cell_type": "code",
   "execution_count": 16,
   "id": "575d9132",
   "metadata": {},
   "outputs": [],
   "source": [
    "df = df[df['chargeoff_within_12_mths'].notna()]"
   ]
  },
  {
   "cell_type": "code",
   "execution_count": 17,
   "id": "f6227fb8",
   "metadata": {},
   "outputs": [],
   "source": [
    "df = df[df['collections_12_mths_ex_med'].notna()]"
   ]
  },
  {
   "cell_type": "code",
   "execution_count": 18,
   "id": "13f4e158",
   "metadata": {},
   "outputs": [],
   "source": [
    "df = df[df['revol_util'].notna()]"
   ]
  },
  {
   "cell_type": "code",
   "execution_count": 19,
   "id": "f1e69d45",
   "metadata": {},
   "outputs": [],
   "source": [
    "df = df[df['tax_liens'].notna()]"
   ]
  },
  {
   "cell_type": "code",
   "execution_count": 20,
   "id": "cc46cc18",
   "metadata": {},
   "outputs": [],
   "source": [
    "df = df[df['title'].notna()]"
   ]
  },
  {
   "cell_type": "code",
   "execution_count": 21,
   "id": "afc934df",
   "metadata": {},
   "outputs": [],
   "source": [
    "df = df[df['last_credit_pull_d'].notna()]"
   ]
  },
  {
   "cell_type": "code",
   "execution_count": 22,
   "id": "d976994a",
   "metadata": {},
   "outputs": [
    {
     "data": {
      "text/plain": [
       "(36431, 55)"
      ]
     },
     "execution_count": 22,
     "metadata": {},
     "output_type": "execute_result"
    }
   ],
   "source": [
    "df.shape\n",
    "#3,286 row entries removed\n",
    "#56 column entries removed"
   ]
  },
  {
   "cell_type": "markdown",
   "id": "a8897f1a",
   "metadata": {},
   "source": [
    "# exploratory data analysis proper"
   ]
  },
  {
   "cell_type": "code",
   "execution_count": 23,
   "id": "ebd9fc43",
   "metadata": {},
   "outputs": [
    {
     "data": {
      "text/plain": [
       "Index(['id', 'member_id', 'loan_amnt', 'funded_amnt', 'funded_amnt_inv',\n",
       "       'term', 'int_rate', 'installment', 'grade', 'sub_grade', 'emp_title',\n",
       "       'emp_length', 'home_ownership', 'annual_inc', 'verification_status',\n",
       "       'issue_d', 'loan_status', 'pymnt_plan', 'url', 'purpose', 'title',\n",
       "       'zip_code', 'addr_state', 'dti', 'delinq_2yrs', 'earliest_cr_line',\n",
       "       'inq_last_6mths', 'mths_since_last_delinq', 'mths_since_last_record',\n",
       "       'open_acc', 'pub_rec', 'revol_bal', 'revol_util', 'total_acc',\n",
       "       'initial_list_status', 'out_prncp', 'out_prncp_inv', 'total_pymnt',\n",
       "       'total_pymnt_inv', 'total_rec_prncp', 'total_rec_int',\n",
       "       'total_rec_late_fee', 'recoveries', 'collection_recovery_fee',\n",
       "       'last_pymnt_d', 'last_pymnt_amnt', 'last_credit_pull_d',\n",
       "       'collections_12_mths_ex_med', 'policy_code', 'application_type',\n",
       "       'acc_now_delinq', 'chargeoff_within_12_mths', 'delinq_amnt',\n",
       "       'pub_rec_bankruptcies', 'tax_liens'],\n",
       "      dtype='object')"
      ]
     },
     "execution_count": 23,
     "metadata": {},
     "output_type": "execute_result"
    }
   ],
   "source": [
    "df.columns"
   ]
  },
  {
   "cell_type": "markdown",
   "id": "cc146ee3",
   "metadata": {},
   "source": [
    "### columns that are relevant regarding deliquency\n",
    "\n",
    "1. loan_status\n",
    "2. delinq_2yrs\n",
    "3. mths_since_last_delinq\n",
    "4. delinq_amnt (all zeros)\n",
    "5. acc_now_delinq (all zeros)\n",
    "6. mths_since_recent_bc_dlq (NANs)\n",
    "7. mths_since_recent_revol_delinq (NANs)\n",
    "8. verification_status"
   ]
  },
  {
   "cell_type": "code",
   "execution_count": 24,
   "id": "158b1699",
   "metadata": {
    "scrolled": true
   },
   "outputs": [
    {
     "data": {
      "text/plain": [
       "Fully Paid     30423\n",
       "Charged Off     4942\n",
       "Current         1066\n",
       "Name: loan_status, dtype: int64"
      ]
     },
     "execution_count": 24,
     "metadata": {},
     "output_type": "execute_result"
    }
   ],
   "source": [
    "df['loan_status'].value_counts()"
   ]
  },
  {
   "cell_type": "markdown",
   "id": "32324b46",
   "metadata": {},
   "source": [
    "### people who defaulted"
   ]
  },
  {
   "cell_type": "code",
   "execution_count": 25,
   "id": "e9bff348",
   "metadata": {
    "scrolled": false
   },
   "outputs": [
    {
     "data": {
      "text/html": [
       "<div>\n",
       "<style scoped>\n",
       "    .dataframe tbody tr th:only-of-type {\n",
       "        vertical-align: middle;\n",
       "    }\n",
       "\n",
       "    .dataframe tbody tr th {\n",
       "        vertical-align: top;\n",
       "    }\n",
       "\n",
       "    .dataframe thead th {\n",
       "        text-align: right;\n",
       "    }\n",
       "</style>\n",
       "<table border=\"1\" class=\"dataframe\">\n",
       "  <thead>\n",
       "    <tr style=\"text-align: right;\">\n",
       "      <th></th>\n",
       "      <th>id</th>\n",
       "      <th>member_id</th>\n",
       "      <th>loan_amnt</th>\n",
       "      <th>funded_amnt</th>\n",
       "      <th>funded_amnt_inv</th>\n",
       "      <th>term</th>\n",
       "      <th>int_rate</th>\n",
       "      <th>installment</th>\n",
       "      <th>grade</th>\n",
       "      <th>sub_grade</th>\n",
       "      <th>...</th>\n",
       "      <th>last_pymnt_amnt</th>\n",
       "      <th>last_credit_pull_d</th>\n",
       "      <th>collections_12_mths_ex_med</th>\n",
       "      <th>policy_code</th>\n",
       "      <th>application_type</th>\n",
       "      <th>acc_now_delinq</th>\n",
       "      <th>chargeoff_within_12_mths</th>\n",
       "      <th>delinq_amnt</th>\n",
       "      <th>pub_rec_bankruptcies</th>\n",
       "      <th>tax_liens</th>\n",
       "    </tr>\n",
       "  </thead>\n",
       "  <tbody>\n",
       "    <tr>\n",
       "      <th>1</th>\n",
       "      <td>1077430</td>\n",
       "      <td>1314167</td>\n",
       "      <td>2500</td>\n",
       "      <td>2500</td>\n",
       "      <td>2500.0</td>\n",
       "      <td>60 months</td>\n",
       "      <td>15.27%</td>\n",
       "      <td>59.83</td>\n",
       "      <td>C</td>\n",
       "      <td>C4</td>\n",
       "      <td>...</td>\n",
       "      <td>119.66</td>\n",
       "      <td>Sep-13</td>\n",
       "      <td>0.0</td>\n",
       "      <td>1</td>\n",
       "      <td>INDIVIDUAL</td>\n",
       "      <td>0</td>\n",
       "      <td>0.0</td>\n",
       "      <td>0</td>\n",
       "      <td>0.0</td>\n",
       "      <td>0.0</td>\n",
       "    </tr>\n",
       "    <tr>\n",
       "      <th>9</th>\n",
       "      <td>1071570</td>\n",
       "      <td>1306721</td>\n",
       "      <td>5375</td>\n",
       "      <td>5375</td>\n",
       "      <td>5350.0</td>\n",
       "      <td>60 months</td>\n",
       "      <td>12.69%</td>\n",
       "      <td>121.45</td>\n",
       "      <td>B</td>\n",
       "      <td>B5</td>\n",
       "      <td>...</td>\n",
       "      <td>121.45</td>\n",
       "      <td>Mar-13</td>\n",
       "      <td>0.0</td>\n",
       "      <td>1</td>\n",
       "      <td>INDIVIDUAL</td>\n",
       "      <td>0</td>\n",
       "      <td>0.0</td>\n",
       "      <td>0</td>\n",
       "      <td>0.0</td>\n",
       "      <td>0.0</td>\n",
       "    </tr>\n",
       "    <tr>\n",
       "      <th>12</th>\n",
       "      <td>1064687</td>\n",
       "      <td>1298717</td>\n",
       "      <td>9000</td>\n",
       "      <td>9000</td>\n",
       "      <td>9000.0</td>\n",
       "      <td>36 months</td>\n",
       "      <td>13.49%</td>\n",
       "      <td>305.38</td>\n",
       "      <td>C</td>\n",
       "      <td>C1</td>\n",
       "      <td>...</td>\n",
       "      <td>305.38</td>\n",
       "      <td>Nov-12</td>\n",
       "      <td>0.0</td>\n",
       "      <td>1</td>\n",
       "      <td>INDIVIDUAL</td>\n",
       "      <td>0</td>\n",
       "      <td>0.0</td>\n",
       "      <td>0</td>\n",
       "      <td>0.0</td>\n",
       "      <td>0.0</td>\n",
       "    </tr>\n",
       "    <tr>\n",
       "      <th>14</th>\n",
       "      <td>1069057</td>\n",
       "      <td>1303503</td>\n",
       "      <td>10000</td>\n",
       "      <td>10000</td>\n",
       "      <td>10000.0</td>\n",
       "      <td>36 months</td>\n",
       "      <td>10.65%</td>\n",
       "      <td>325.74</td>\n",
       "      <td>B</td>\n",
       "      <td>B2</td>\n",
       "      <td>...</td>\n",
       "      <td>325.74</td>\n",
       "      <td>Mar-14</td>\n",
       "      <td>0.0</td>\n",
       "      <td>1</td>\n",
       "      <td>INDIVIDUAL</td>\n",
       "      <td>0</td>\n",
       "      <td>0.0</td>\n",
       "      <td>0</td>\n",
       "      <td>0.0</td>\n",
       "      <td>0.0</td>\n",
       "    </tr>\n",
       "    <tr>\n",
       "      <th>21</th>\n",
       "      <td>1039153</td>\n",
       "      <td>1269083</td>\n",
       "      <td>21000</td>\n",
       "      <td>21000</td>\n",
       "      <td>21000.0</td>\n",
       "      <td>36 months</td>\n",
       "      <td>12.42%</td>\n",
       "      <td>701.73</td>\n",
       "      <td>B</td>\n",
       "      <td>B4</td>\n",
       "      <td>...</td>\n",
       "      <td>701.73</td>\n",
       "      <td>May-16</td>\n",
       "      <td>0.0</td>\n",
       "      <td>1</td>\n",
       "      <td>INDIVIDUAL</td>\n",
       "      <td>0</td>\n",
       "      <td>0.0</td>\n",
       "      <td>0</td>\n",
       "      <td>0.0</td>\n",
       "      <td>0.0</td>\n",
       "    </tr>\n",
       "  </tbody>\n",
       "</table>\n",
       "<p>5 rows × 55 columns</p>\n",
       "</div>"
      ],
      "text/plain": [
       "         id  member_id  loan_amnt  funded_amnt  funded_amnt_inv        term  \\\n",
       "1   1077430    1314167       2500         2500           2500.0   60 months   \n",
       "9   1071570    1306721       5375         5375           5350.0   60 months   \n",
       "12  1064687    1298717       9000         9000           9000.0   36 months   \n",
       "14  1069057    1303503      10000        10000          10000.0   36 months   \n",
       "21  1039153    1269083      21000        21000          21000.0   36 months   \n",
       "\n",
       "   int_rate  installment grade sub_grade  ... last_pymnt_amnt  \\\n",
       "1    15.27%        59.83     C        C4  ...          119.66   \n",
       "9    12.69%       121.45     B        B5  ...          121.45   \n",
       "12   13.49%       305.38     C        C1  ...          305.38   \n",
       "14   10.65%       325.74     B        B2  ...          325.74   \n",
       "21   12.42%       701.73     B        B4  ...          701.73   \n",
       "\n",
       "   last_credit_pull_d collections_12_mths_ex_med  policy_code  \\\n",
       "1              Sep-13                        0.0            1   \n",
       "9              Mar-13                        0.0            1   \n",
       "12             Nov-12                        0.0            1   \n",
       "14             Mar-14                        0.0            1   \n",
       "21             May-16                        0.0            1   \n",
       "\n",
       "   application_type acc_now_delinq chargeoff_within_12_mths delinq_amnt  \\\n",
       "1        INDIVIDUAL              0                      0.0           0   \n",
       "9        INDIVIDUAL              0                      0.0           0   \n",
       "12       INDIVIDUAL              0                      0.0           0   \n",
       "14       INDIVIDUAL              0                      0.0           0   \n",
       "21       INDIVIDUAL              0                      0.0           0   \n",
       "\n",
       "   pub_rec_bankruptcies tax_liens  \n",
       "1                   0.0       0.0  \n",
       "9                   0.0       0.0  \n",
       "12                  0.0       0.0  \n",
       "14                  0.0       0.0  \n",
       "21                  0.0       0.0  \n",
       "\n",
       "[5 rows x 55 columns]"
      ]
     },
     "execution_count": 25,
     "metadata": {},
     "output_type": "execute_result"
    }
   ],
   "source": [
    "default = df[df['loan_status']=='Charged Off']\n",
    "default.head()"
   ]
  },
  {
   "cell_type": "code",
   "execution_count": 41,
   "id": "ae86232d",
   "metadata": {},
   "outputs": [
    {
     "data": {
      "text/plain": [
       "(4942, 55)"
      ]
     },
     "execution_count": 41,
     "metadata": {},
     "output_type": "execute_result"
    }
   ],
   "source": [
    "default.shape"
   ]
  },
  {
   "cell_type": "markdown",
   "id": "6272f9d0",
   "metadata": {},
   "source": [
    "### their loan profile"
   ]
  },
  {
   "cell_type": "code",
   "execution_count": 26,
   "id": "0113590c",
   "metadata": {},
   "outputs": [
    {
     "data": {
      "text/plain": [
       "(array([ 736., 1010.,  879.,  613.,  538.,  461.,  196.,  273.,   85.,\n",
       "         151.]),\n",
       " array([ 1000.,  4400.,  7800., 11200., 14600., 18000., 21400., 24800.,\n",
       "        28200., 31600., 35000.]),\n",
       " <BarContainer object of 10 artists>)"
      ]
     },
     "execution_count": 26,
     "metadata": {},
     "output_type": "execute_result"
    },
    {
     "data": {
      "image/png": "[encoded data removed]",
      "text/plain": [
       "<Figure size 432x288 with 1 Axes>"
      ]
     },
     "metadata": {
      "needs_background": "light"
     },
     "output_type": "display_data"
    }
   ],
   "source": [
    "plt.hist(default['loan_amnt'])"
   ]
  },
  {
   "cell_type": "code",
   "execution_count": 27,
   "id": "06ef8b97",
   "metadata": {},
   "outputs": [
    {
     "data": {
      "text/plain": [
       "<AxesSubplot:ylabel='term'>"
      ]
     },
     "execution_count": 27,
     "metadata": {},
     "output_type": "execute_result"
    },
    {
     "data": {
      "image/png": "[encoded data removed]",
      "text/plain": [
       "<Figure size 432x288 with 1 Axes>"
      ]
     },
     "metadata": {},
     "output_type": "display_data"
    }
   ],
   "source": [
    "default['term'].value_counts().plot.pie()"
   ]
  },
  {
   "cell_type": "code",
   "execution_count": 28,
   "id": "34e8a1b9",
   "metadata": {},
   "outputs": [
    {
     "data": {
      "text/plain": [
       "(array([ 948., 1351., 1152.,  673.,  380.,  194.,  176.,   48.,   12.,\n",
       "           8.]),\n",
       " array([  22.79,  151.03,  279.27,  407.51,  535.75,  663.99,  792.23,\n",
       "         920.47, 1048.71, 1176.95, 1305.19]),\n",
       " <BarContainer object of 10 artists>)"
      ]
     },
     "execution_count": 28,
     "metadata": {},
     "output_type": "execute_result"
    },
    {
     "data": {
      "image/png": "[encoded data removed]",
      "text/plain": [
       "<Figure size 432x288 with 1 Axes>"
      ]
     },
     "metadata": {
      "needs_background": "light"
     },
     "output_type": "display_data"
    }
   ],
   "source": [
    "plt.hist(default['installment'])"
   ]
  },
  {
   "cell_type": "markdown",
   "id": "a21d6d86",
   "metadata": {},
   "source": [
    "### borrower's profile"
   ]
  },
  {
   "cell_type": "code",
   "execution_count": 29,
   "id": "47ed3023",
   "metadata": {},
   "outputs": [],
   "source": [
    "#home_ownership"
   ]
  },
  {
   "cell_type": "code",
   "execution_count": 30,
   "id": "798916ef",
   "metadata": {},
   "outputs": [],
   "source": [
    "#annual_inc"
   ]
  },
  {
   "cell_type": "code",
   "execution_count": 31,
   "id": "e5faf736",
   "metadata": {},
   "outputs": [],
   "source": [
    "#purpose"
   ]
  },
  {
   "cell_type": "code",
   "execution_count": 36,
   "id": "4e74d3ab",
   "metadata": {},
   "outputs": [
    {
     "data": {
      "text/plain": [
       "(array([ 516., 1182., 1170.,  912.,  531.,  368.,  173.,   47.,   41.,\n",
       "           2.]),\n",
       " array([ 2. ,  8.8, 15.6, 22.4, 29.2, 36. , 42.8, 49.6, 56.4, 63.2, 70. ]),\n",
       " <BarContainer object of 10 artists>)"
      ]
     },
     "execution_count": 36,
     "metadata": {},
     "output_type": "execute_result"
    },
    {
     "data": {
      "image/png": "[encoded data removed]",
      "text/plain": [
       "<Figure size 432x288 with 1 Axes>"
      ]
     },
     "metadata": {
      "needs_background": "light"
     },
     "output_type": "display_data"
    }
   ],
   "source": [
    "# borrowers' amount of credit lines\n",
    "plt.hist(default['total_acc'])"
   ]
  },
  {
   "cell_type": "code",
   "execution_count": null,
   "id": "29bc45aa",
   "metadata": {},
   "outputs": [],
   "source": [
    "#loan balance = loan_amnt - total_pymnt"
   ]
  },
  {
   "cell_type": "code",
   "execution_count": 37,
   "id": "79a234ec",
   "metadata": {},
   "outputs": [
    {
     "data": {
      "text/plain": [
       "200.00    15\n",
       "100.00    14\n",
       "50.00     12\n",
       "400.00    11\n",
       "150.00    10\n",
       "          ..\n",
       "244.09     1\n",
       "266.34     1\n",
       "348.35     1\n",
       "320.25     1\n",
       "133.55     1\n",
       "Name: last_pymnt_amnt, Length: 4128, dtype: int64"
      ]
     },
     "execution_count": 37,
     "metadata": {},
     "output_type": "execute_result"
    }
   ],
   "source": [
    "default['last_pymnt_amnt'].value_counts()"
   ]
  },
  {
   "cell_type": "code",
   "execution_count": 39,
   "id": "500b330a",
   "metadata": {},
   "outputs": [
    {
     "data": {
      "text/plain": [
       "INDIVIDUAL    4942\n",
       "Name: application_type, dtype: int64"
      ]
     },
     "execution_count": 39,
     "metadata": {},
     "output_type": "execute_result"
    }
   ],
   "source": [
    "default['application_type'].value_counts()"
   ]
  },
  {
   "cell_type": "code",
   "execution_count": 45,
   "id": "9dbdf279",
   "metadata": {},
   "outputs": [
    {
     "data": {
      "text/plain": [
       "0.0    4630\n",
       "1.0     310\n",
       "2.0       2\n",
       "Name: pub_rec_bankruptcies, dtype: int64"
      ]
     },
     "execution_count": 45,
     "metadata": {},
     "output_type": "execute_result"
    }
   ],
   "source": [
    "default['pub_rec_bankruptcies'].value_counts()"
   ]
  },
  {
   "cell_type": "code",
   "execution_count": 46,
   "id": "b46ae595",
   "metadata": {},
   "outputs": [
    {
     "data": {
      "text/plain": [
       "0.0    4942\n",
       "Name: tax_liens, dtype: int64"
      ]
     },
     "execution_count": 46,
     "metadata": {},
     "output_type": "execute_result"
    }
   ],
   "source": []
  },
  {
   "cell_type": "code",
   "execution_count": null,
   "id": "8d70ef08",
   "metadata": {},
   "outputs": [],
   "source": []
  }
 ],
 "metadata": {
  "kernelspec": {
   "display_name": "Python 3",
   "language": "python",
   "name": "python3"
  },
  "language_info": {
   "codemirror_mode": {
    "name": "ipython",
    "version": 3
   },
   "file_extension": ".py",
   "mimetype": "text/x-python",
   "name": "python",
   "nbconvert_exporter": "python",
   "pygments_lexer": "ipython3",
   "version": "3.8.10"
  }
 },
 "nbformat": 4,
 "nbformat_minor": 5
}
